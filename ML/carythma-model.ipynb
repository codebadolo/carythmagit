{
 "cells": [
  {
   "cell_type": "code",
   "execution_count": 1,
   "id": "bb0d7e2c-2514-42f1-b599-a5b020a0fc6f",
   "metadata": {
    "tags": []
   },
   "outputs": [
    {
     "data": {
      "text/plain": [
       "'1.2.2'"
      ]
     },
     "execution_count": 1,
     "metadata": {},
     "output_type": "execute_result"
    }
   ],
   "source": [
    "import sklearn\n",
    "sklearn.__version__"
   ]
  },
  {
   "cell_type": "code",
   "execution_count": 2,
   "id": "ced4999f-830a-4e99-9827-1e1789a5eed8",
   "metadata": {
    "tags": []
   },
   "outputs": [
    {
     "name": "stdout",
     "output_type": "stream",
     "text": [
      "Defaulting to user installation because normal site-packages is not writeable\n",
      "\u001b[31mERROR: Could not find a version that satisfies the requirement python3 (from versions: none)\u001b[0m\u001b[31m\n",
      "\u001b[0m\u001b[31mERROR: No matching distribution found for python3\u001b[0m\u001b[31m\n",
      "\u001b[0mNote: you may need to restart the kernel to use updated packages.\n",
      "Defaulting to user installation because normal site-packages is not writeable\n",
      "Requirement already satisfied: tensorflow in /home/humbu/.local/lib/python3.10/site-packages (2.14.0)\n",
      "Requirement already satisfied: google-pasta>=0.1.1 in /home/humbu/.local/lib/python3.10/site-packages (from tensorflow) (0.2.0)\n",
      "Requirement already satisfied: libclang>=13.0.0 in /home/humbu/.local/lib/python3.10/site-packages (from tensorflow) (16.0.6)\n",
      "Requirement already satisfied: h5py>=2.9.0 in /home/humbu/.local/lib/python3.10/site-packages (from tensorflow) (3.10.0)\n",
      "Requirement already satisfied: tensorflow-estimator<2.15,>=2.14.0 in /home/humbu/.local/lib/python3.10/site-packages (from tensorflow) (2.14.0)\n",
      "Requirement already satisfied: packaging in /usr/lib/python3/dist-packages (from tensorflow) (21.3)\n",
      "Requirement already satisfied: gast!=0.5.0,!=0.5.1,!=0.5.2,>=0.2.1 in /home/humbu/.local/lib/python3.10/site-packages (from tensorflow) (0.5.4)\n",
      "Requirement already satisfied: astunparse>=1.6.0 in /home/humbu/.local/lib/python3.10/site-packages (from tensorflow) (1.6.3)\n",
      "Requirement already satisfied: ml-dtypes==0.2.0 in /home/humbu/.local/lib/python3.10/site-packages (from tensorflow) (0.2.0)\n",
      "Requirement already satisfied: wrapt<1.15,>=1.11.0 in /home/humbu/.local/lib/python3.10/site-packages (from tensorflow) (1.14.1)\n",
      "Requirement already satisfied: termcolor>=1.1.0 in /home/humbu/.local/lib/python3.10/site-packages (from tensorflow) (2.3.0)\n",
      "Requirement already satisfied: numpy>=1.23.5 in /home/humbu/.local/lib/python3.10/site-packages (from tensorflow) (1.25.1)\n",
      "Requirement already satisfied: tensorboard<2.15,>=2.14 in /home/humbu/.local/lib/python3.10/site-packages (from tensorflow) (2.14.1)\n",
      "Requirement already satisfied: keras<2.15,>=2.14.0 in /home/humbu/.local/lib/python3.10/site-packages (from tensorflow) (2.14.0)\n",
      "Requirement already satisfied: grpcio<2.0,>=1.24.3 in /home/humbu/.local/lib/python3.10/site-packages (from tensorflow) (1.59.0)\n",
      "Requirement already satisfied: six>=1.12.0 in /usr/lib/python3/dist-packages (from tensorflow) (1.16.0)\n",
      "Requirement already satisfied: protobuf!=4.21.0,!=4.21.1,!=4.21.2,!=4.21.3,!=4.21.4,!=4.21.5,<5.0.0dev,>=3.20.3 in /home/humbu/.local/lib/python3.10/site-packages (from tensorflow) (4.24.4)\n",
      "Requirement already satisfied: flatbuffers>=23.5.26 in /home/humbu/.local/lib/python3.10/site-packages (from tensorflow) (23.5.26)\n",
      "Requirement already satisfied: setuptools in /usr/lib/python3/dist-packages (from tensorflow) (59.6.0)\n",
      "Requirement already satisfied: tensorflow-io-gcs-filesystem>=0.23.1 in /home/humbu/.local/lib/python3.10/site-packages (from tensorflow) (0.34.0)\n",
      "Requirement already satisfied: opt-einsum>=2.3.2 in /home/humbu/.local/lib/python3.10/site-packages (from tensorflow) (3.3.0)\n",
      "Requirement already satisfied: absl-py>=1.0.0 in /home/humbu/.local/lib/python3.10/site-packages (from tensorflow) (2.0.0)\n",
      "Requirement already satisfied: typing-extensions>=3.6.6 in /home/humbu/.local/lib/python3.10/site-packages (from tensorflow) (4.7.1)\n",
      "Requirement already satisfied: wheel<1.0,>=0.23.0 in /usr/lib/python3/dist-packages (from astunparse>=1.6.0->tensorflow) (0.37.1)\n",
      "Requirement already satisfied: requests<3,>=2.21.0 in /home/humbu/.local/lib/python3.10/site-packages (from tensorboard<2.15,>=2.14->tensorflow) (2.31.0)\n",
      "Requirement already satisfied: google-auth<3,>=1.6.3 in /home/humbu/.local/lib/python3.10/site-packages (from tensorboard<2.15,>=2.14->tensorflow) (2.23.3)\n",
      "Requirement already satisfied: google-auth-oauthlib<1.1,>=0.5 in /home/humbu/.local/lib/python3.10/site-packages (from tensorboard<2.15,>=2.14->tensorflow) (1.0.0)\n",
      "Requirement already satisfied: werkzeug>=1.0.1 in /home/humbu/.local/lib/python3.10/site-packages (from tensorboard<2.15,>=2.14->tensorflow) (2.3.7)\n",
      "Requirement already satisfied: markdown>=2.6.8 in /home/humbu/.local/lib/python3.10/site-packages (from tensorboard<2.15,>=2.14->tensorflow) (3.4.4)\n",
      "Requirement already satisfied: tensorboard-data-server<0.8.0,>=0.7.0 in /home/humbu/.local/lib/python3.10/site-packages (from tensorboard<2.15,>=2.14->tensorflow) (0.7.2)\n",
      "Requirement already satisfied: rsa<5,>=3.1.4 in /home/humbu/.local/lib/python3.10/site-packages (from google-auth<3,>=1.6.3->tensorboard<2.15,>=2.14->tensorflow) (4.9)\n",
      "Requirement already satisfied: pyasn1-modules>=0.2.1 in /home/humbu/.local/lib/python3.10/site-packages (from google-auth<3,>=1.6.3->tensorboard<2.15,>=2.14->tensorflow) (0.3.0)\n",
      "Requirement already satisfied: cachetools<6.0,>=2.0.0 in /home/humbu/.local/lib/python3.10/site-packages (from google-auth<3,>=1.6.3->tensorboard<2.15,>=2.14->tensorflow) (5.3.2)\n",
      "Requirement already satisfied: requests-oauthlib>=0.7.0 in /home/humbu/.local/lib/python3.10/site-packages (from google-auth-oauthlib<1.1,>=0.5->tensorboard<2.15,>=2.14->tensorflow) (1.3.1)\n",
      "Requirement already satisfied: certifi>=2017.4.17 in /home/humbu/.local/lib/python3.10/site-packages (from requests<3,>=2.21.0->tensorboard<2.15,>=2.14->tensorflow) (2023.7.22)\n",
      "Requirement already satisfied: urllib3<3,>=1.21.1 in /home/humbu/.local/lib/python3.10/site-packages (from requests<3,>=2.21.0->tensorboard<2.15,>=2.14->tensorflow) (1.26.16)\n",
      "Requirement already satisfied: idna<4,>=2.5 in /home/humbu/.local/lib/python3.10/site-packages (from requests<3,>=2.21.0->tensorboard<2.15,>=2.14->tensorflow) (3.4)\n",
      "Requirement already satisfied: charset-normalizer<4,>=2 in /home/humbu/.local/lib/python3.10/site-packages (from requests<3,>=2.21.0->tensorboard<2.15,>=2.14->tensorflow) (3.2.0)\n",
      "Requirement already satisfied: MarkupSafe>=2.1.1 in /home/humbu/.local/lib/python3.10/site-packages (from werkzeug>=1.0.1->tensorboard<2.15,>=2.14->tensorflow) (2.1.3)\n",
      "Requirement already satisfied: pyasn1<0.6.0,>=0.4.6 in /home/humbu/.local/lib/python3.10/site-packages (from pyasn1-modules>=0.2.1->google-auth<3,>=1.6.3->tensorboard<2.15,>=2.14->tensorflow) (0.5.0)\n",
      "Requirement already satisfied: oauthlib>=3.0.0 in /usr/lib/python3/dist-packages (from requests-oauthlib>=0.7.0->google-auth-oauthlib<1.1,>=0.5->tensorboard<2.15,>=2.14->tensorflow) (3.2.0)\n",
      "Note: you may need to restart the kernel to use updated packages.\n",
      "Defaulting to user installation because normal site-packages is not writeable\n",
      "Requirement already satisfied: scikit-learn in /home/humbu/.local/lib/python3.10/site-packages (1.2.2)\n",
      "Requirement already satisfied: scipy>=1.3.2 in /home/humbu/.local/lib/python3.10/site-packages (from scikit-learn) (1.11.3)\n",
      "Requirement already satisfied: joblib>=1.1.1 in /home/humbu/.local/lib/python3.10/site-packages (from scikit-learn) (1.3.2)\n",
      "Requirement already satisfied: threadpoolctl>=2.0.0 in /home/humbu/.local/lib/python3.10/site-packages (from scikit-learn) (3.2.0)\n",
      "Requirement already satisfied: numpy>=1.17.3 in /home/humbu/.local/lib/python3.10/site-packages (from scikit-learn) (1.25.1)\n",
      "Note: you may need to restart the kernel to use updated packages.\n",
      "Defaulting to user installation because normal site-packages is not writeable\n",
      "Requirement already satisfied: pandas in /home/humbu/.local/lib/python3.10/site-packages (2.1.1)\n",
      "Requirement already satisfied: python-dateutil>=2.8.2 in /home/humbu/.local/lib/python3.10/site-packages (from pandas) (2.8.2)\n",
      "Requirement already satisfied: numpy>=1.22.4 in /home/humbu/.local/lib/python3.10/site-packages (from pandas) (1.25.1)\n",
      "Requirement already satisfied: tzdata>=2022.1 in /home/humbu/.local/lib/python3.10/site-packages (from pandas) (2023.3)\n",
      "Requirement already satisfied: pytz>=2020.1 in /home/humbu/.local/lib/python3.10/site-packages (from pandas) (2022.7.1)\n",
      "Requirement already satisfied: six>=1.5 in /usr/lib/python3/dist-packages (from python-dateutil>=2.8.2->pandas) (1.16.0)\n",
      "Note: you may need to restart the kernel to use updated packages.\n",
      "Defaulting to user installation because normal site-packages is not writeable\n",
      "Requirement already satisfied: matplotlib in /usr/lib/python3/dist-packages (3.5.1)\n",
      "Note: you may need to restart the kernel to use updated packages.\n",
      "Defaulting to user installation because normal site-packages is not writeable\n",
      "Requirement already satisfied: numpy in /home/humbu/.local/lib/python3.10/site-packages (1.25.1)\n",
      "Note: you may need to restart the kernel to use updated packages.\n",
      "Defaulting to user installation because normal site-packages is not writeable\n",
      "Requirement already satisfied: seaborn in /home/humbu/.local/lib/python3.10/site-packages (0.13.0)\n",
      "Requirement already satisfied: numpy!=1.24.0,>=1.20 in /home/humbu/.local/lib/python3.10/site-packages (from seaborn) (1.25.1)\n",
      "Requirement already satisfied: matplotlib!=3.6.1,>=3.3 in /usr/lib/python3/dist-packages (from seaborn) (3.5.1)\n",
      "Requirement already satisfied: pandas>=1.2 in /home/humbu/.local/lib/python3.10/site-packages (from seaborn) (2.1.1)\n",
      "Requirement already satisfied: python-dateutil>=2.8.2 in /home/humbu/.local/lib/python3.10/site-packages (from pandas>=1.2->seaborn) (2.8.2)\n",
      "Requirement already satisfied: pytz>=2020.1 in /home/humbu/.local/lib/python3.10/site-packages (from pandas>=1.2->seaborn) (2022.7.1)\n",
      "Requirement already satisfied: tzdata>=2022.1 in /home/humbu/.local/lib/python3.10/site-packages (from pandas>=1.2->seaborn) (2023.3)\n",
      "Requirement already satisfied: six>=1.5 in /usr/lib/python3/dist-packages (from python-dateutil>=2.8.2->pandas>=1.2->seaborn) (1.16.0)\n",
      "Note: you may need to restart the kernel to use updated packages.\n",
      "Defaulting to user installation because normal site-packages is not writeable\n",
      "Collecting catboost\n",
      "  Downloading catboost-1.2.5-cp310-cp310-manylinux2014_x86_64.whl (98.2 MB)\n",
      "\u001b[2K     \u001b[38;2;114;156;31m━━━━━━━━━━━━━━━━━━━━━━━━━━━━━━━━━━━━━━━\u001b[0m \u001b[32m98.2/98.2 MB\u001b[0m \u001b[31m609.5 kB/s\u001b[0m eta \u001b[36m0:00:00\u001b[0mm eta \u001b[36m0:00:01\u001b[0m[36m0:00:05\u001b[0m\n",
      "\u001b[?25hRequirement already satisfied: scipy in /home/humbu/.local/lib/python3.10/site-packages (from catboost) (1.11.3)\n",
      "Requirement already satisfied: plotly in /home/humbu/.local/lib/python3.10/site-packages (from catboost) (5.18.0)\n",
      "Requirement already satisfied: matplotlib in /usr/lib/python3/dist-packages (from catboost) (3.5.1)\n",
      "Requirement already satisfied: six in /usr/lib/python3/dist-packages (from catboost) (1.16.0)\n",
      "Collecting graphviz\n",
      "  Downloading graphviz-0.20.3-py3-none-any.whl (47 kB)\n",
      "\u001b[2K     \u001b[38;2;114;156;31m━━━━━━━━━━━━━━━━━━━━━━━━━━━━━━━━━━━━━━━\u001b[0m \u001b[32m47.1/47.1 KB\u001b[0m \u001b[31m409.3 kB/s\u001b[0m eta \u001b[36m0:00:00\u001b[0m1m574.4 kB/s\u001b[0m eta \u001b[36m0:00:01\u001b[0m\n",
      "\u001b[?25hRequirement already satisfied: numpy>=1.16.0 in /home/humbu/.local/lib/python3.10/site-packages (from catboost) (1.25.1)\n",
      "Requirement already satisfied: pandas>=0.24 in /home/humbu/.local/lib/python3.10/site-packages (from catboost) (2.1.1)\n",
      "Requirement already satisfied: tzdata>=2022.1 in /home/humbu/.local/lib/python3.10/site-packages (from pandas>=0.24->catboost) (2023.3)\n",
      "Requirement already satisfied: pytz>=2020.1 in /home/humbu/.local/lib/python3.10/site-packages (from pandas>=0.24->catboost) (2022.7.1)\n",
      "Requirement already satisfied: python-dateutil>=2.8.2 in /home/humbu/.local/lib/python3.10/site-packages (from pandas>=0.24->catboost) (2.8.2)\n",
      "Requirement already satisfied: tenacity>=6.2.0 in /home/humbu/.local/lib/python3.10/site-packages (from plotly->catboost) (8.2.3)\n",
      "Requirement already satisfied: packaging in /usr/lib/python3/dist-packages (from plotly->catboost) (21.3)\n",
      "Installing collected packages: graphviz, catboost\n",
      "Successfully installed catboost-1.2.5 graphviz-0.20.3\n",
      "Note: you may need to restart the kernel to use updated packages.\n",
      "Defaulting to user installation because normal site-packages is not writeable\n",
      "Collecting sagemaker\n",
      "  Downloading sagemaker-2.216.0-py3-none-any.whl (1.5 MB)\n",
      "\u001b[2K     \u001b[38;2;114;156;31m━━━━━━━━━━━━━━━━━━━━━━━━━━━━━━━━━━━━━━━━\u001b[0m \u001b[32m1.5/1.5 MB\u001b[0m \u001b[31m1.9 MB/s\u001b[0m eta \u001b[36m0:00:00\u001b[0m[36m0:00:01\u001b[0m[36m0:00:01\u001b[0m:01\u001b[0m0m\n",
      "\u001b[?25hRequirement already satisfied: tqdm in /home/humbu/.local/lib/python3.10/site-packages (from sagemaker) (4.66.1)\n",
      "Requirement already satisfied: attrs<24,>=23.1.0 in /home/humbu/.local/lib/python3.10/site-packages (from sagemaker) (23.1.0)\n",
      "Requirement already satisfied: platformdirs in /home/humbu/.local/lib/python3.10/site-packages (from sagemaker) (2.6.2)\n",
      "Requirement already satisfied: requests in /home/humbu/.local/lib/python3.10/site-packages (from sagemaker) (2.31.0)\n",
      "Collecting schema\n",
      "  Downloading schema-0.7.5-py2.py3-none-any.whl (17 kB)\n",
      "Collecting cloudpickle==2.2.1\n",
      "  Downloading cloudpickle-2.2.1-py3-none-any.whl (25 kB)\n",
      "Requirement already satisfied: packaging>=20.0 in /usr/lib/python3/dist-packages (from sagemaker) (21.3)\n",
      "Collecting smdebug-rulesconfig==1.0.1\n",
      "  Downloading smdebug_rulesconfig-1.0.1-py2.py3-none-any.whl (20 kB)\n",
      "Requirement already satisfied: PyYAML~=6.0 in /home/humbu/.local/lib/python3.10/site-packages (from sagemaker) (6.0.1)\n",
      "Requirement already satisfied: protobuf<5.0,>=3.12 in /home/humbu/.local/lib/python3.10/site-packages (from sagemaker) (4.24.4)\n",
      "Collecting docker\n",
      "  Downloading docker-7.0.0-py3-none-any.whl (147 kB)\n",
      "\u001b[2K     \u001b[38;2;114;156;31m━━━━━━━━━━━━━━━━━━━━━━━━━━━━━━━━━━━━━━━\u001b[0m \u001b[32m147.6/147.6 KB\u001b[0m \u001b[31m5.2 MB/s\u001b[0m eta \u001b[36m0:00:00\u001b[0m\n",
      "\u001b[?25hRequirement already satisfied: numpy<2.0,>=1.9.0 in /home/humbu/.local/lib/python3.10/site-packages (from sagemaker) (1.25.1)\n",
      "Requirement already satisfied: psutil in /home/humbu/.local/lib/python3.10/site-packages (from sagemaker) (5.9.7)\n",
      "Requirement already satisfied: pandas in /home/humbu/.local/lib/python3.10/site-packages (from sagemaker) (2.1.1)\n",
      "Requirement already satisfied: urllib3<3.0.0,>=1.26.8 in /home/humbu/.local/lib/python3.10/site-packages (from sagemaker) (1.26.16)\n",
      "Collecting pathos\n",
      "  Downloading pathos-0.3.2-py3-none-any.whl (82 kB)\n",
      "\u001b[2K     \u001b[38;2;114;156;31m━━━━━━━━━━━━━━━━━━━━━━━━━━━━━━━━━━━━━━━━\u001b[0m \u001b[32m82.1/82.1 KB\u001b[0m \u001b[31m4.4 MB/s\u001b[0m eta \u001b[36m0:00:00\u001b[0m\n",
      "\u001b[?25hCollecting importlib-metadata<7.0,>=1.4.0\n",
      "  Downloading importlib_metadata-6.11.0-py3-none-any.whl (23 kB)\n",
      "Requirement already satisfied: google-pasta in /home/humbu/.local/lib/python3.10/site-packages (from sagemaker) (0.2.0)\n",
      "Collecting boto3<2.0,>=1.33.3\n",
      "  Downloading boto3-1.34.86-py3-none-any.whl (139 kB)\n",
      "\u001b[2K     \u001b[38;2;114;156;31m━━━━━━━━━━━━━━━━━━━━━━━━━━━━━━━━━━━━━\u001b[0m \u001b[32m139.3/139.3 KB\u001b[0m \u001b[31m916.7 kB/s\u001b[0m eta \u001b[36m0:00:00\u001b[0m MB/s\u001b[0m eta \u001b[36m0:00:01\u001b[0m\n",
      "\u001b[?25hRequirement already satisfied: tblib<4,>=1.7.0 in /home/humbu/.local/lib/python3.10/site-packages (from sagemaker) (3.0.0)\n",
      "Requirement already satisfied: jsonschema in /home/humbu/.local/lib/python3.10/site-packages (from sagemaker) (4.19.1)\n",
      "Collecting s3transfer<0.11.0,>=0.10.0\n",
      "  Downloading s3transfer-0.10.1-py3-none-any.whl (82 kB)\n",
      "\u001b[2K     \u001b[38;2;114;156;31m━━━━━━━━━━━━━━━━━━━━━━━━━━━━━━━━━━━━━━━━\u001b[0m \u001b[32m82.2/82.2 KB\u001b[0m \u001b[31m5.6 MB/s\u001b[0m eta \u001b[36m0:00:00\u001b[0m\n",
      "\u001b[?25hRequirement already satisfied: jmespath<2.0.0,>=0.7.1 in /home/humbu/.local/lib/python3.10/site-packages (from boto3<2.0,>=1.33.3->sagemaker) (1.0.1)\n",
      "Collecting botocore<1.35.0,>=1.34.86\n",
      "  Downloading botocore-1.34.86-py3-none-any.whl (12.1 MB)\n",
      "\u001b[2K     \u001b[38;2;114;156;31m━━━━━━━━━━━━━━━━━━━━━━━━━━━━━━━━━━━━━━━━\u001b[0m \u001b[32m12.1/12.1 MB\u001b[0m \u001b[31m2.2 MB/s\u001b[0m eta \u001b[36m0:00:00\u001b[0mm eta \u001b[36m0:00:01\u001b[0m[36m0:00:01\u001b[0m\n",
      "\u001b[?25hRequirement already satisfied: zipp>=0.5 in /usr/lib/python3/dist-packages (from importlib-metadata<7.0,>=1.4.0->sagemaker) (1.0.0)\n",
      "Requirement already satisfied: certifi>=2017.4.17 in /home/humbu/.local/lib/python3.10/site-packages (from requests->sagemaker) (2023.7.22)\n",
      "Requirement already satisfied: charset-normalizer<4,>=2 in /home/humbu/.local/lib/python3.10/site-packages (from requests->sagemaker) (3.2.0)\n",
      "Requirement already satisfied: idna<4,>=2.5 in /home/humbu/.local/lib/python3.10/site-packages (from requests->sagemaker) (3.4)\n",
      "Requirement already satisfied: six in /usr/lib/python3/dist-packages (from google-pasta->sagemaker) (1.16.0)\n",
      "Requirement already satisfied: rpds-py>=0.7.1 in /home/humbu/.local/lib/python3.10/site-packages (from jsonschema->sagemaker) (0.10.6)\n",
      "Requirement already satisfied: jsonschema-specifications>=2023.03.6 in /home/humbu/.local/lib/python3.10/site-packages (from jsonschema->sagemaker) (2023.7.1)\n",
      "Requirement already satisfied: referencing>=0.28.4 in /home/humbu/.local/lib/python3.10/site-packages (from jsonschema->sagemaker) (0.30.2)\n",
      "Requirement already satisfied: pytz>=2020.1 in /home/humbu/.local/lib/python3.10/site-packages (from pandas->sagemaker) (2022.7.1)\n",
      "Requirement already satisfied: tzdata>=2022.1 in /home/humbu/.local/lib/python3.10/site-packages (from pandas->sagemaker) (2023.3)\n",
      "Requirement already satisfied: python-dateutil>=2.8.2 in /home/humbu/.local/lib/python3.10/site-packages (from pandas->sagemaker) (2.8.2)\n",
      "Collecting dill>=0.3.8\n",
      "  Downloading dill-0.3.8-py3-none-any.whl (116 kB)\n",
      "\u001b[2K     \u001b[38;2;114;156;31m━━━━━━━━━━━━━━━━━━━━━━━━━━━━━━━━━━━━━━━\u001b[0m \u001b[32m116.3/116.3 KB\u001b[0m \u001b[31m2.2 MB/s\u001b[0m eta \u001b[36m0:00:00\u001b[0m MB/s\u001b[0m eta \u001b[36m0:00:01\u001b[0m\n",
      "\u001b[?25hCollecting pox>=0.3.4\n",
      "  Downloading pox-0.3.4-py3-none-any.whl (29 kB)\n",
      "Collecting multiprocess>=0.70.16\n",
      "  Downloading multiprocess-0.70.16-py310-none-any.whl (134 kB)\n",
      "\u001b[2K     \u001b[38;2;114;156;31m━━━━━━━━━━━━━━━━━━━━━━━━━━━━━━━━━━━━━━━\u001b[0m \u001b[32m134.8/134.8 KB\u001b[0m \u001b[31m2.0 MB/s\u001b[0m eta \u001b[36m0:00:00\u001b[0m MB/s\u001b[0m eta \u001b[36m0:00:01\u001b[0m\n",
      "\u001b[?25hCollecting ppft>=1.7.6.8\n",
      "  Downloading ppft-1.7.6.8-py3-none-any.whl (56 kB)\n",
      "\u001b[2K     \u001b[38;2;114;156;31m━━━━━━━━━━━━━━━━━━━━━━━━━━━━━━━━━━━━━━━━\u001b[0m \u001b[32m56.8/56.8 KB\u001b[0m \u001b[31m1.9 MB/s\u001b[0m eta \u001b[36m0:00:00\u001b[0m\n",
      "\u001b[?25hCollecting contextlib2>=0.5.5\n",
      "  Downloading contextlib2-21.6.0-py2.py3-none-any.whl (13 kB)\n",
      "Installing collected packages: smdebug-rulesconfig, ppft, pox, importlib-metadata, dill, contextlib2, cloudpickle, schema, multiprocess, docker, botocore, s3transfer, pathos, boto3, sagemaker\n",
      "  Attempting uninstall: importlib-metadata\n",
      "    Found existing installation: importlib-metadata 7.0.1\n",
      "    Uninstalling importlib-metadata-7.0.1:\n",
      "      Successfully uninstalled importlib-metadata-7.0.1\n",
      "  Attempting uninstall: cloudpickle\n",
      "    Found existing installation: cloudpickle 3.0.0\n",
      "    Uninstalling cloudpickle-3.0.0:\n",
      "      Successfully uninstalled cloudpickle-3.0.0\n",
      "  Attempting uninstall: botocore\n",
      "    Found existing installation: botocore 1.31.49\n",
      "    Uninstalling botocore-1.31.49:\n",
      "      Successfully uninstalled botocore-1.31.49\n",
      "  Attempting uninstall: s3transfer\n",
      "    Found existing installation: s3transfer 0.6.2\n",
      "    Uninstalling s3transfer-0.6.2:\n",
      "      Successfully uninstalled s3transfer-0.6.2\n",
      "  Attempting uninstall: boto3\n",
      "    Found existing installation: boto3 1.28.49\n",
      "    Uninstalling boto3-1.28.49:\n",
      "      Successfully uninstalled boto3-1.28.49\n",
      "Successfully installed boto3-1.34.86 botocore-1.34.86 cloudpickle-2.2.1 contextlib2-21.6.0 dill-0.3.8 docker-7.0.0 importlib-metadata-6.11.0 multiprocess-0.70.16 pathos-0.3.2 pox-0.3.4 ppft-1.7.6.8 s3transfer-0.10.1 sagemaker-2.216.0 schema-0.7.5 smdebug-rulesconfig-1.0.1\n",
      "Note: you may need to restart the kernel to use updated packages.\n",
      "Defaulting to user installation because normal site-packages is not writeable\n",
      "Collecting xgboost\n",
      "  Downloading xgboost-2.0.3-py3-none-manylinux2014_x86_64.whl (297.1 MB)\n",
      "\u001b[2K     \u001b[38;2;114;156;31m━━━━━━━━━━━━━━━━━━━━━━━━━━━━━━━━━━━━━\u001b[0m \u001b[32m297.1/297.1 MB\u001b[0m \u001b[31m693.6 kB/s\u001b[0m eta \u001b[36m0:00:00\u001b[0mm eta \u001b[36m0:00:01\u001b[0m[36m0:00:09\u001b[0m\n",
      "\u001b[?25hRequirement already satisfied: numpy in /home/humbu/.local/lib/python3.10/site-packages (from xgboost) (1.25.1)\n",
      "Requirement already satisfied: scipy in /home/humbu/.local/lib/python3.10/site-packages (from xgboost) (1.11.3)\n",
      "Installing collected packages: xgboost\n",
      "Successfully installed xgboost-2.0.3\n",
      "Note: you may need to restart the kernel to use updated packages.\n"
     ]
    }
   ],
   "source": [
    "%pip install  python3\n",
    "%pip install  tensorflow\n",
    "%pip install  scikit-learn\n",
    "%pip install  pandas\n",
    "%pip install  matplotlib\n",
    "%pip install  numpy\n",
    "%pip install seaborn\n",
    "%pip install catboost\n",
    "%pip install sagemaker\n",
    "%pip install xgboost"
   ]
  },
  {
   "cell_type": "code",
   "execution_count": 3,
   "id": "d6fa034e-8e80-4ab7-b106-81d81d66f58f",
   "metadata": {
    "tags": []
   },
   "outputs": [
    {
     "name": "stdout",
     "output_type": "stream",
     "text": [
      "Defaulting to user installation because normal site-packages is not writeable\n",
      "Requirement already satisfied: sagemaker in /home/humbu/.local/lib/python3.10/site-packages (2.216.0)\n",
      "Requirement already satisfied: boto3<2.0,>=1.33.3 in /home/humbu/.local/lib/python3.10/site-packages (from sagemaker) (1.34.86)\n",
      "Requirement already satisfied: pandas in /home/humbu/.local/lib/python3.10/site-packages (from sagemaker) (2.1.1)\n",
      "Requirement already satisfied: schema in /home/humbu/.local/lib/python3.10/site-packages (from sagemaker) (0.7.5)\n",
      "Requirement already satisfied: attrs<24,>=23.1.0 in /home/humbu/.local/lib/python3.10/site-packages (from sagemaker) (23.1.0)\n",
      "Requirement already satisfied: requests in /home/humbu/.local/lib/python3.10/site-packages (from sagemaker) (2.31.0)\n",
      "Requirement already satisfied: docker in /home/humbu/.local/lib/python3.10/site-packages (from sagemaker) (7.0.0)\n",
      "Requirement already satisfied: protobuf<5.0,>=3.12 in /home/humbu/.local/lib/python3.10/site-packages (from sagemaker) (4.24.4)\n",
      "Requirement already satisfied: urllib3<3.0.0,>=1.26.8 in /home/humbu/.local/lib/python3.10/site-packages (from sagemaker) (1.26.16)\n",
      "Requirement already satisfied: PyYAML~=6.0 in /home/humbu/.local/lib/python3.10/site-packages (from sagemaker) (6.0.1)\n",
      "Requirement already satisfied: psutil in /home/humbu/.local/lib/python3.10/site-packages (from sagemaker) (5.9.7)\n",
      "Requirement already satisfied: pathos in /home/humbu/.local/lib/python3.10/site-packages (from sagemaker) (0.3.2)\n",
      "Requirement already satisfied: google-pasta in /home/humbu/.local/lib/python3.10/site-packages (from sagemaker) (0.2.0)\n",
      "Requirement already satisfied: smdebug-rulesconfig==1.0.1 in /home/humbu/.local/lib/python3.10/site-packages (from sagemaker) (1.0.1)\n",
      "Requirement already satisfied: platformdirs in /home/humbu/.local/lib/python3.10/site-packages (from sagemaker) (2.6.2)\n",
      "Requirement already satisfied: tblib<4,>=1.7.0 in /home/humbu/.local/lib/python3.10/site-packages (from sagemaker) (3.0.0)\n",
      "Requirement already satisfied: numpy<2.0,>=1.9.0 in /home/humbu/.local/lib/python3.10/site-packages (from sagemaker) (1.25.1)\n",
      "Requirement already satisfied: cloudpickle==2.2.1 in /home/humbu/.local/lib/python3.10/site-packages (from sagemaker) (2.2.1)\n",
      "Requirement already satisfied: packaging>=20.0 in /usr/lib/python3/dist-packages (from sagemaker) (21.3)\n",
      "Requirement already satisfied: jsonschema in /home/humbu/.local/lib/python3.10/site-packages (from sagemaker) (4.19.1)\n",
      "Requirement already satisfied: importlib-metadata<7.0,>=1.4.0 in /home/humbu/.local/lib/python3.10/site-packages (from sagemaker) (6.11.0)\n",
      "Requirement already satisfied: tqdm in /home/humbu/.local/lib/python3.10/site-packages (from sagemaker) (4.66.1)\n",
      "Requirement already satisfied: s3transfer<0.11.0,>=0.10.0 in /home/humbu/.local/lib/python3.10/site-packages (from boto3<2.0,>=1.33.3->sagemaker) (0.10.1)\n",
      "Requirement already satisfied: botocore<1.35.0,>=1.34.86 in /home/humbu/.local/lib/python3.10/site-packages (from boto3<2.0,>=1.33.3->sagemaker) (1.34.86)\n",
      "Requirement already satisfied: jmespath<2.0.0,>=0.7.1 in /home/humbu/.local/lib/python3.10/site-packages (from boto3<2.0,>=1.33.3->sagemaker) (1.0.1)\n",
      "Requirement already satisfied: zipp>=0.5 in /usr/lib/python3/dist-packages (from importlib-metadata<7.0,>=1.4.0->sagemaker) (1.0.0)\n",
      "Requirement already satisfied: idna<4,>=2.5 in /home/humbu/.local/lib/python3.10/site-packages (from requests->sagemaker) (3.4)\n",
      "Requirement already satisfied: charset-normalizer<4,>=2 in /home/humbu/.local/lib/python3.10/site-packages (from requests->sagemaker) (3.2.0)\n",
      "Requirement already satisfied: certifi>=2017.4.17 in /home/humbu/.local/lib/python3.10/site-packages (from requests->sagemaker) (2023.7.22)\n",
      "Requirement already satisfied: six in /usr/lib/python3/dist-packages (from google-pasta->sagemaker) (1.16.0)\n",
      "Requirement already satisfied: referencing>=0.28.4 in /home/humbu/.local/lib/python3.10/site-packages (from jsonschema->sagemaker) (0.30.2)\n",
      "Requirement already satisfied: rpds-py>=0.7.1 in /home/humbu/.local/lib/python3.10/site-packages (from jsonschema->sagemaker) (0.10.6)\n",
      "Requirement already satisfied: jsonschema-specifications>=2023.03.6 in /home/humbu/.local/lib/python3.10/site-packages (from jsonschema->sagemaker) (2023.7.1)\n",
      "Requirement already satisfied: pytz>=2020.1 in /home/humbu/.local/lib/python3.10/site-packages (from pandas->sagemaker) (2022.7.1)\n",
      "Requirement already satisfied: python-dateutil>=2.8.2 in /home/humbu/.local/lib/python3.10/site-packages (from pandas->sagemaker) (2.8.2)\n",
      "Requirement already satisfied: tzdata>=2022.1 in /home/humbu/.local/lib/python3.10/site-packages (from pandas->sagemaker) (2023.3)\n",
      "Requirement already satisfied: dill>=0.3.8 in /home/humbu/.local/lib/python3.10/site-packages (from pathos->sagemaker) (0.3.8)\n",
      "Requirement already satisfied: multiprocess>=0.70.16 in /home/humbu/.local/lib/python3.10/site-packages (from pathos->sagemaker) (0.70.16)\n",
      "Requirement already satisfied: ppft>=1.7.6.8 in /home/humbu/.local/lib/python3.10/site-packages (from pathos->sagemaker) (1.7.6.8)\n",
      "Requirement already satisfied: pox>=0.3.4 in /home/humbu/.local/lib/python3.10/site-packages (from pathos->sagemaker) (0.3.4)\n",
      "Requirement already satisfied: contextlib2>=0.5.5 in /home/humbu/.local/lib/python3.10/site-packages (from schema->sagemaker) (21.6.0)\n",
      "Note: you may need to restart the kernel to use updated packages.\n"
     ]
    }
   ],
   "source": [
    "%pip install sagemaker"
   ]
  },
  {
   "cell_type": "markdown",
   "id": "8a9e2dcf-bb04-4265-bbe4-7bead0eb0c00",
   "metadata": {
    "tags": []
   },
   "source": [
    "## 1. Initialize Boto3 SDK and create S3 bucket."
   ]
  },
  {
   "cell_type": "code",
   "execution_count": 4,
   "id": "0766ba20-0711-4b01-b4d9-0b79f5dd3a8d",
   "metadata": {
    "tags": []
   },
   "outputs": [
    {
     "ename": "ImportError",
     "evalue": "cannot import name 'F' from 'pandas.compat' (/home/humbu/.local/lib/python3.10/site-packages/pandas/compat/__init__.py)",
     "output_type": "error",
     "traceback": [
      "\u001b[0;31m---------------------------------------------------------------------------\u001b[0m",
      "\u001b[0;31mImportError\u001b[0m                               Traceback (most recent call last)",
      "\u001b[0;32m/tmp/ipykernel_105563/2566267518.py\u001b[0m in \u001b[0;36m<module>\u001b[0;34m\u001b[0m\n\u001b[0;32m----> 1\u001b[0;31m \u001b[0;32mfrom\u001b[0m \u001b[0mpandas\u001b[0m\u001b[0;34m.\u001b[0m\u001b[0mcompat\u001b[0m \u001b[0;32mimport\u001b[0m \u001b[0mF\u001b[0m\u001b[0;34m\u001b[0m\u001b[0;34m\u001b[0m\u001b[0m\n\u001b[0m\u001b[1;32m      2\u001b[0m \u001b[0;32mimport\u001b[0m \u001b[0mmatplotlib\u001b[0m\u001b[0;34m.\u001b[0m\u001b[0mpyplot\u001b[0m \u001b[0;32mas\u001b[0m \u001b[0mplt\u001b[0m\u001b[0;34m\u001b[0m\u001b[0;34m\u001b[0m\u001b[0m\n\u001b[1;32m      3\u001b[0m \u001b[0;32mimport\u001b[0m \u001b[0mseaborn\u001b[0m \u001b[0;32mas\u001b[0m \u001b[0msns\u001b[0m\u001b[0;34m\u001b[0m\u001b[0;34m\u001b[0m\u001b[0m\n\u001b[1;32m      4\u001b[0m \u001b[0;34m\u001b[0m\u001b[0m\n\u001b[1;32m      5\u001b[0m \u001b[0;32mfrom\u001b[0m \u001b[0msklearn\u001b[0m\u001b[0;34m.\u001b[0m\u001b[0mcompose\u001b[0m \u001b[0;32mimport\u001b[0m \u001b[0mColumnTransformer\u001b[0m\u001b[0;34m\u001b[0m\u001b[0;34m\u001b[0m\u001b[0m\n",
      "\u001b[0;31mImportError\u001b[0m: cannot import name 'F' from 'pandas.compat' (/home/humbu/.local/lib/python3.10/site-packages/pandas/compat/__init__.py)"
     ]
    }
   ],
   "source": [
    "from pandas.compat import F\n",
    "import matplotlib.pyplot as plt\n",
    "import seaborn as sns\n",
    "\n",
    "from sklearn.compose import ColumnTransformer\n",
    "from sklearn.preprocessing import StandardScaler , LabelEncoder\n",
    "#from tensorflow import keras\n",
    "from sklearn.model_selection import cross_val_score\n",
    "from sklearn.ensemble import RandomForestClassifier\n",
    "from sklearn.pipeline import Pipeline\n",
    "from sklearn.preprocessing import StandardScaler\n",
    "from sklearn.feature_selection import SelectKBest\n",
    "from sklearn.metrics import accuracy_score"
   ]
  },
  {
   "cell_type": "code",
   "execution_count": null,
   "id": "e4cc87f6-ae63-4cc9-99ab-49676ecc9478",
   "metadata": {
    "tags": []
   },
   "outputs": [],
   "source": [
    "import numpy as np\n",
    "from sagemaker import get_execution_role\n",
    "import sagemaker\n",
    "from sklearn.model_selection import train_test_split\n",
    "from sklearn.preprocessing import LabelEncoder, StandardScaler, OneHotEncoder\n",
    "import datetime\n",
    "import time\n",
    "import tarfile\n",
    "import boto3\n",
    "import pandas as pd\n",
    "\n",
    "sm_boto3 = boto3.client(\"sagemaker\")\n",
    "\n",
    "sess = sagemaker.Session()\n",
    "region = sess.boto_session.region_name\n",
    "bucket = 'deployement-sagemaker-bucket' # Mention the created S3 bucket name here\n",
    "print(\"Using bucket \" + bucket)"
   ]
  },
  {
   "cell_type": "markdown",
   "id": "83a4836a-1dee-4489-843d-e2d8baa874cb",
   "metadata": {},
   "source": [
    "3. Data Exploration and Understanding"
   ]
  },
  {
   "cell_type": "code",
   "execution_count": null,
   "id": "47b16217-b121-4792-95c1-30582ab08c4a",
   "metadata": {
    "tags": []
   },
   "outputs": [],
   "source": [
    "# creation de variable   qui vont  recuperer les chemins des  differentes  ensemble de  donnee\n",
    "\n",
    "## ancienne  ,  \n",
    "file_incart_path = 'Downloads/aws-sage-maker/INCART 2-lead Arrhythmia Database.csv'\n",
    "file_sudden_path ='Downloads/aws-sage-maker/MIT-BIH Arrhythmia Database.csv'\n",
    "file_mit_supra_path = 'Downloads/aws-sage-maker/MIT-BIH Supraventricular Arrhythmia Database.csv'\n",
    "file_mit_bih_path = 'Downloads/aws-sage-maker/Sudden Cardiac Death Holter Database.csv'"
   ]
  },
  {
   "cell_type": "code",
   "execution_count": null,
   "id": "88451cc5-68af-4c47-a943-1e3c7a094728",
   "metadata": {
    "tags": []
   },
   "outputs": [],
   "source": [
    "incart =  pd.read_csv(file_incart_path , low_memory= False )\n",
    "sudden =  pd.read_csv(file_sudden_path , low_memory= False)\n",
    "supra =  pd.read_csv(file_mit_supra_path , low_memory= False)\n",
    "mitbih = pd.read_csv(file_mit_bih_path  , low_memory= False )"
   ]
  },
  {
   "cell_type": "code",
   "execution_count": null,
   "id": "8820e950-bc87-4d37-b3f0-96bc16424f54",
   "metadata": {
    "tags": []
   },
   "outputs": [],
   "source": [
    "incart.head()"
   ]
  },
  {
   "cell_type": "code",
   "execution_count": null,
   "id": "9504e551-9126-40ae-8058-400e7be51411",
   "metadata": {
    "tags": []
   },
   "outputs": [],
   "source": [
    "# Combine dataframes in the list into one dataframe\n",
    "\n",
    "liste_des_ensemble_de_donnees  = [incart, sudden, mitbih, supra]\n",
    "combinaison_df = pd.concat(liste_des_ensemble_de_donnees, ignore_index=True)"
   ]
  },
  {
   "cell_type": "code",
   "execution_count": null,
   "id": "f4000824-f76a-462a-97fa-9fd0826963bf",
   "metadata": {
    "tags": []
   },
   "outputs": [],
   "source": [
    "combinaison_df.to_csv('donnee_carythma.csv', index=False)\n"
   ]
  },
  {
   "cell_type": "code",
   "execution_count": null,
   "id": "b23cef5c-8a56-4c87-b27f-77df7acd8581",
   "metadata": {},
   "outputs": [],
   "source": []
  },
  {
   "cell_type": "code",
   "execution_count": null,
   "id": "44931e1a-4876-414b-917d-c57b68bab520",
   "metadata": {
    "tags": []
   },
   "outputs": [],
   "source": [
    "def netoyage_combinaison_melange_des_donnees(dataframes_list):\n",
    "\n",
    "    combinaison_df = pd.concat(dataframes_list, ignore_index=True )\n",
    "    combinaison_df = combinaison_df.dropna()\n",
    "    combinaison_df = combinaison_df.reset_index(drop=True)\n",
    "    melanger_df = combinaison_df.sample(frac=1, random_state=42)\n",
    "\n",
    "    return melanger_df\n",
    "\n",
    "\n",
    "#liste_des_ensemble_de_donnees  = dfcarythma # [incart, sudden, mitbih, supra]\n",
    "\n",
    "\n",
    "combiner_netoyer_melanger  = netoyage_combinaison_melange_des_donnees(liste_des_ensemble_de_donnees)\n",
    "\n",
    "\n",
    "combiner_netoyer_melanger.to_csv('combine.csv')\n",
    "#combined_df = pd.concat([df1, df2, df3, df4], axis=0)\n",
    "\n",
    "# Save the concatenated DataFrame to a CSV file\n",
    "#combined_df.to_csv('combined_data.csv', index=False)\n"
   ]
  },
  {
   "cell_type": "code",
   "execution_count": null,
   "id": "776364c4-9a3f-4cb9-87c4-d5118d05ca2b",
   "metadata": {
    "tags": []
   },
   "outputs": [],
   "source": [
    "combiner_netoyer_melanger.columns"
   ]
  },
  {
   "cell_type": "code",
   "execution_count": null,
   "id": "43cff069-594d-444c-9e87-207656ad9c2e",
   "metadata": {
    "tags": []
   },
   "outputs": [],
   "source": [
    "\n",
    "def selection_et_renaming_des_colonnes(donnee_entrer, colonnes_selectionner, nouveau_nom_de_colonnes):\n",
    "    # dans ce cas  nous allons   selectonner  des  colonnes specifique s\n",
    "    ensemble_de_donnee_selectionner = donnee_entrer[colonnes_selectionner].copy()\n",
    "\n",
    "    # Renomage des   colonnes  selectionner\n",
    "    ensemble_de_donnee_selectionner.columns = nouveau_nom_de_colonnes\n",
    "\n",
    "    return ensemble_de_donnee_selectionner\n",
    "\n",
    "\n",
    "\n",
    "# list des colonnes a  selectionner\n",
    "colonnes_select= ['type', '0_pre-RR', '0_pq_interval', '0_qt_interval']\n",
    "\n",
    "nouveau_nom_col = ['categorie arythmie', 'Interval-RR', 'Interval-PR', 'Interval-QT']\n",
    "\n",
    "ensemble_de_donnee_selection_et_renommer = selection_et_renaming_des_colonnes(combiner_netoyer_melanger, colonnes_select, nouveau_nom_col)\n",
    "\n",
    "ensemble_de_donnee_selection_et_renommer\n"
   ]
  },
  {
   "cell_type": "code",
   "execution_count": null,
   "id": "97d1660e-de6c-4f6f-ae6f-3d72b5c59be8",
   "metadata": {
    "tags": []
   },
   "outputs": [],
   "source": [
    "print(combiner_netoyer_melanger.describe)\n",
    "\n"
   ]
  },
  {
   "cell_type": "code",
   "execution_count": null,
   "id": "9d7b35cc-f933-47d4-b832-0be3f268b687",
   "metadata": {
    "tags": []
   },
   "outputs": [],
   "source": [
    "ensemble_de_donnee_selection_et_renommer"
   ]
  },
  {
   "cell_type": "code",
   "execution_count": null,
   "id": "9c121dbd-cae4-42c4-a12c-7269a95b270a",
   "metadata": {
    "tags": []
   },
   "outputs": [],
   "source": [
    "import pandas as pd\n",
    "import math\n",
    "\n",
    "def calcule_du_rythme_cardiaque(rr_intervale_en_ms):\n",
    "    rythme_cardiaque = 60000/ rr_intervale_en_ms\n",
    "    return rythme_cardiaque\n",
    "\n",
    "def ratioprqt(pr_intervale_en_ms, qt_intervale_en_ms):\n",
    "    pr_qt_ratio = pr_intervale_en_ms / qt_intervale_en_ms\n",
    "    return pr_qt_ratio\n",
    "\n",
    "def calcule_du_qtc(qt_intervale_en_ms, rythme_cardiaque):\n",
    "    qtc = qt_intervale_en_ms + 1.75 * (rythme_cardiaque - 60)\n",
    "    return qtc\n",
    "\n",
    "def creation_de_features(donnee_entrer):\n",
    "    donnee_entrer['frequence cardiaque'] = donnee_entrer['Interval-RR'].apply(calcule_du_rythme_cardiaque)\n",
    "    donnee_entrer['RatioPRQT'] = donnee_entrer.apply(lambda row: ratioprqt(row['Interval-PR'], row['Interval-QT']), axis=1)\n",
    "    donnee_entrer['QTc'] = donnee_entrer.apply(lambda row: calcule_du_qtc(row['Interval-QT'], row['frequence cardiaque']), axis=1)\n",
    "\n",
    "    return donnee_entrer\n",
    "\n",
    "# nous allons  utiliser les  function  si dessus  pour les faire  les differen\n",
    "# calcule concernant le  heart rate, PR/QT ratio, QTc, et creer les features\n",
    "donnee_traitee = creation_de_features(ensemble_de_donnee_selection_et_renommer)\n",
    "\n",
    "\n",
    "donnee_traitee"
   ]
  },
  {
   "cell_type": "code",
   "execution_count": null,
   "id": "78414a86-dd04-4801-bc16-f1b32d9b9e6f",
   "metadata": {
    "tags": []
   },
   "outputs": [],
   "source": [
    "donnee_traitee['categorie arythmie'].unique()"
   ]
  },
  {
   "cell_type": "code",
   "execution_count": null,
   "id": "c2ff8a80-cb73-4973-9f7a-d636f03fc5d3",
   "metadata": {
    "tags": []
   },
   "outputs": [],
   "source": [
    "donnee_traitee"
   ]
  },
  {
   "cell_type": "code",
   "execution_count": null,
   "id": "baa28683-830e-4a59-a028-b7e297657bc1",
   "metadata": {
    "tags": []
   },
   "outputs": [],
   "source": [
    "selected_features = [ 'Interval-RR', 'Interval-PR','Interval-QT','frequence cardiaque', 'RatioPRQT', 'QTc']\n",
    "\n",
    "# sous  diviser les ensemble de  donnee  se basant  sur  les   features selectionner\n",
    "selected_features_df = donnee_traitee[selected_features]\n",
    "\n",
    "sns.set(style=\"ticks\")\n",
    "sns.pairplot(selected_features_df)\n",
    "plt.show()"
   ]
  },
  {
   "cell_type": "code",
   "execution_count": null,
   "id": "390f25a7-c11d-494c-8bd2-1e0b267cfc8c",
   "metadata": {
    "tags": []
   },
   "outputs": [],
   "source": [
    "def split_data(donnee_entrer , colonne_rechercher, test_size=0.2, random_state=None):\n",
    "\n",
    "    X = donnee_entrer.drop(columns=[colonne_rechercher])\n",
    "    y = donnee_entrer[colonne_rechercher]\n",
    "    X_train, X_test, y_train, y_test = train_test_split(X, y, test_size=test_size, random_state=random_state)\n",
    "    return X_train, X_test, y_train, y_test"
   ]
  },
  {
   "cell_type": "code",
   "execution_count": null,
   "id": "c6b1427a-e1f5-4be4-be4a-17cd390d1c54",
   "metadata": {
    "tags": []
   },
   "outputs": [],
   "source": [
    "def echellonement_numerique(donnee_entrer, colonnes_numeriques):\n",
    "\n",
    "    scaler = StandardScaler()\n",
    "    donnee_entrer[colonnes_numeriques] = scaler.fit_transform(donnee_entrer[colonnes_numeriques])\n",
    "    return donnee_entrer"
   ]
  },
  {
   "cell_type": "code",
   "execution_count": null,
   "id": "93b731ae-55a6-401f-b92c-76b1551d9f16",
   "metadata": {
    "tags": []
   },
   "outputs": [],
   "source": [
    "colonne_rechercher = 'categorie arythmie'\n",
    "\n",
    "\n",
    "#colonnes_cat = ['categorie arythmie']\n",
    "colonne_num = ['Interval-RR', 'Interval-PR', 'Interval-QT','frequence cardiaque', 'RatioPRQT', 'QTc']\n",
    "\n",
    "donne_encoder = echellonement_numerique(donnee_traitee.copy(), colonne_num)\n",
    "\n",
    "\n",
    "#donnee_echelloner = echellonement_numerique(donne_encoder.copy(), colonne_num)\n",
    "\n",
    "X_train, X_test, y_train, y_test = split_data(donne_encoder, colonne_rechercher, test_size=0.2 , random_state=42)"
   ]
  },
  {
   "cell_type": "code",
   "execution_count": null,
   "id": "fe919ae3-dacd-4d23-be6e-e8b9270553ad",
   "metadata": {
    "tags": []
   },
   "outputs": [],
   "source": [
    "X_train, X_test, y_train, y_test"
   ]
  },
  {
   "cell_type": "code",
   "execution_count": null,
   "id": "ebcc0607-52a9-41c7-9d6e-fc659ab53ae5",
   "metadata": {
    "tags": []
   },
   "outputs": [],
   "source": [
    "###   cette partie consiste a renommer les information  categoritielle de la sante du patient se base sur les donnees ecg \n",
    "# Your original categorical data\n",
    "original_data = ['N', 'VEB', 'SVEB', 'F', 'Q']\n",
    "\n",
    "# Define your mapping\n",
    "mapping = {\n",
    "    'N': 'Normale',\n",
    "    'VEB': 'Battement ectopique ventriculaire  , pas  bon ',\n",
    "    'SVEB': 'Battement ectopique supraventriculaire ,  pas  bon ',\n",
    "    'F': 'Battement de fusion , pas bon ',\n",
    "    'Q': 'Battement inconnu , pas  bon '\n",
    "}\n",
    "\n",
    "# Create a function to apply the mapping to an array\n",
    "\n",
    "\n",
    "y_train = y_train.map(mapping).fillna(y_train)\n",
    "y_test = y_test.map(mapping).fillna(y_test)\n",
    "X_train = y_train.map(mapping).fillna(X_train)\n",
    "X_test = y_test.map(mapping).fillna(X_test)\n",
    "\n",
    "\n"
   ]
  },
  {
   "cell_type": "code",
   "execution_count": null,
   "id": "b4ac7353-5f3b-483b-ab31-7317c508e57a",
   "metadata": {
    "tags": []
   },
   "outputs": [],
   "source": [
    "y_train"
   ]
  },
  {
   "cell_type": "code",
   "execution_count": null,
   "id": "ab1e8c9d-dd9f-45ab-ae23-8aa938adcd3b",
   "metadata": {
    "tags": []
   },
   "outputs": [],
   "source": [
    "X_train.head() "
   ]
  },
  {
   "cell_type": "code",
   "execution_count": null,
   "id": "6c8a2470-c4ff-4c7f-aa60-ba60fac2c258",
   "metadata": {
    "tags": []
   },
   "outputs": [],
   "source": [
    "trainX = pd.DataFrame(X_train)\n",
    "trainX[colonne_rechercher] = y_train\n",
    "\n",
    "testX = pd.DataFrame(X_test)\n",
    "testX[colonne_rechercher] = y_test"
   ]
  },
  {
   "cell_type": "code",
   "execution_count": null,
   "id": "28f4852a-33d9-41f6-8492-ffc0090c7c7d",
   "metadata": {
    "tags": []
   },
   "outputs": [],
   "source": [
    "trainX.to_csv(\"train-V-1.csv\",index = False)\n",
    "testX.to_csv(\"test-V-1.csv\", index = False)"
   ]
  },
  {
   "cell_type": "code",
   "execution_count": null,
   "id": "7cce5d17-4e6a-40a1-9a04-c771f627b7f2",
   "metadata": {
    "tags": []
   },
   "outputs": [],
   "source": [
    "# send data to S3. SageMaker will take training data from s3\n",
    "sk_prefix = \"sagemaker/donneetraintestcarythma/\"\n",
    "trainpath = sess.upload_data(\n",
    "    path=\"train-V-1.csv\", bucket=bucket, key_prefix=sk_prefix\n",
    ")\n",
    "\n",
    "testpath = sess.upload_data(\n",
    "    path=\"test-V-1.csv\", bucket=bucket, key_prefix=sk_prefix\n",
    ")"
   ]
  },
  {
   "cell_type": "code",
   "execution_count": null,
   "id": "cc0098bb-3a16-4058-a15c-f78689816020",
   "metadata": {
    "tags": []
   },
   "outputs": [],
   "source": [
    "testpath"
   ]
  },
  {
   "cell_type": "code",
   "execution_count": null,
   "id": "03d911fb-f5e1-4f93-8a97-04fe88bda1bd",
   "metadata": {
    "tags": []
   },
   "outputs": [],
   "source": [
    "\n",
    "from sklearn.model_selection import cross_val_score\n",
    "from sklearn.model_selection import GridSearchCV\n",
    "\n",
    "# importing the models\n",
    "from sklearn.neighbors import KNeighborsClassifier\n",
    "from sklearn.ensemble import RandomForestClassifier"
   ]
  },
  {
   "cell_type": "code",
   "execution_count": null,
   "id": "3c539fc5-0a14-4c32-8b31-f9e30afa9ada",
   "metadata": {
    "tags": []
   },
   "outputs": [],
   "source": [
    "### CREATION  DU  SCRIPT D'ENTRAINEMENT "
   ]
  },
  {
   "cell_type": "code",
   "execution_count": null,
   "id": "553fdeb1-5499-48b4-964a-57b7475bf1dc",
   "metadata": {
    "tags": []
   },
   "outputs": [],
   "source": [
    "%%writefile script.py\n",
    "\n",
    "\n",
    "from sklearn.ensemble import RandomForestClassifier, HistGradientBoostingClassifier\n",
    "from sklearn.metrics import accuracy_score, classification_report, confusion_matrix, precision_score, recall_score, f1_score, roc_curve, auc\n",
    "import sklearn\n",
    "import joblib\n",
    "import boto3\n",
    "import pathlib\n",
    "from io import StringIO \n",
    "import argparse\n",
    "import joblib\n",
    "import os\n",
    "import numpy as np\n",
    "import pandas as pd\n",
    "\n",
    "# inference functions ---------------\n",
    "\n",
    "# def input_fn(request_body, request_content_type):\n",
    "#     print(request_body)\n",
    "#     print(request_content_type)\n",
    "#     if request_content_type == \"text/csv\":\n",
    "#         request_body = request_body.strip()\n",
    "#         try:\n",
    "#             df = pd.read_csv(StringIO(request_body), header=None)\n",
    "#             return df\n",
    "        \n",
    "#         except Exception as e:\n",
    "#             print(e)\n",
    "#     else:\n",
    "#         return \"\"\"Please use Content-Type = 'text/csv' and, send the request!!\"\"\" \n",
    " \n",
    "    \n",
    "def model_fn(model_dir):\n",
    "    clf = joblib.load(os.path.join(model_dir, \"modelcarythma.joblib\"))\n",
    "    return clf\n",
    "\n",
    "# def predict_fn(input_data, model):\n",
    "#     if type(input_data) != str:\n",
    "#         prediction = model.predict(input_data)\n",
    "#         print(prediction)\n",
    "#         return prediction\n",
    "#     else:\n",
    "#         return input_data\n",
    "        \n",
    "    \n",
    "if __name__ == \"__main__\":\n",
    "\n",
    "    print(\"[INFO] Extracting arguments\")\n",
    "    parser = argparse.ArgumentParser()\n",
    "\n",
    "    # hyperparameters sent by the client are passed as command-line arguments to the script.\n",
    "    parser.add_argument(\"--n_estimators\", type=int, default=100)\n",
    "    parser.add_argument(\"--random_state\", type=int, default=0)\n",
    "\n",
    "    # Data, model, and output directories\n",
    "    parser.add_argument(\"--model-dir\", type=str, default=os.environ.get(\"SM_MODEL_DIR\"))\n",
    "    parser.add_argument(\"--train\", type=str, default=os.environ.get(\"SM_CHANNEL_TRAIN\"))\n",
    "    parser.add_argument(\"--test\", type=str, default=os.environ.get(\"SM_CHANNEL_TEST\"))\n",
    "    parser.add_argument(\"--train-file\", type=str, default=\"train-V-1.csv\")\n",
    "    parser.add_argument(\"--test-file\", type=str, default=\"test-V-1.csv\")\n",
    "\n",
    "    args, _ = parser.parse_known_args()\n",
    "    \n",
    "    print(\"SKLearn Version: \", sklearn.__version__)\n",
    "    print(\"Joblib Version: \", joblib.__version__)\n",
    "\n",
    "    print(\"[INFO] Reading data\")\n",
    "    print()\n",
    "    train_df = pd.read_csv(os.path.join(args.train, args.train_file))\n",
    "    test_df = pd.read_csv(os.path.join(args.test, args.test_file))\n",
    "    \n",
    "    colonne_num = list(train_df.columns)\n",
    "    colonne_rechercher = colonne_num.pop(-1)\n",
    "    \n",
    "    print(\"Building training and testing datasets\")\n",
    "    print()\n",
    "    X_train = train_df[colonne_num]\n",
    "    X_test = test_df[colonne_num]\n",
    "    y_train = train_df[colonne_rechercher]\n",
    "    y_test = test_df[colonne_rechercher]\n",
    "\n",
    "    print('Column order: ')\n",
    "    print(colonne_num)\n",
    "    print()\n",
    "    \n",
    "    print(\"Label column is: \",colonne_rechercher)\n",
    "    print()\n",
    "    \n",
    "    print(\"Data Shape: \")\n",
    "    print()\n",
    "    print(\"---- SHAPE OF TRAINING DATA (85%) ----\")\n",
    "    print(X_train.shape)\n",
    "    print(y_train.shape)\n",
    "    print()\n",
    "    print(\"---- SHAPE OF TESTING DATA (15%) ----\")\n",
    "    print(X_test.shape)\n",
    "    print(y_test.shape)\n",
    "    print()\n",
    "    \n",
    "  \n",
    "    print(\"Training RandomForest Model.....\")\n",
    "    print()\n",
    "    model =  RandomForestClassifier(n_estimators=args.n_estimators, random_state=args.random_state, verbose = 3,n_jobs=-1) #HistGradientBoostingClassifier() #HistGradientBoostingClassifier(max_iter=100, random_state=42, verbose=3, n_jobs=-1)\n",
    "    model.fit(X_train, y_train)\n",
    "    print()\n",
    "    \n",
    "\n",
    "    model_path = os.path.join(args.model_dir, \"model.joblib\")\n",
    "    joblib.dump(model,model_path)\n",
    "    print(\"Model persisted at \" + model_path)\n",
    "    print()\n",
    "\n",
    "    \n",
    "    y_pred_test = model.predict(X_test)\n",
    "    test_acc = accuracy_score(y_test,y_pred_test)\n",
    "    test_rep = classification_report(y_test,y_pred_test)\n",
    "\n",
    "    print()\n",
    "    print(\"---- METRICS RESULTS FOR TESTING DATA ----\")\n",
    "    print()\n",
    "    print(\"Total Rows are: \", X_test.shape[0])\n",
    "    print('[TESTING] Model Accuracy is: ', test_acc)\n",
    "    print('[TESTING] Testing Report: ')\n",
    "    print(test_rep)"
   ]
  },
  {
   "cell_type": "code",
   "execution_count": null,
   "id": "36f72d6e-b087-429d-bccb-78c5f7d762e9",
   "metadata": {
    "tags": []
   },
   "outputs": [],
   "source": [
    "! python script.py --n_estimators 100 \\\n",
    "                   --random_state 0 \\\n",
    "                   --model-dir ./ \\\n",
    "                   --train ./ \\\n",
    "                   --test ./ \\"
   ]
  },
  {
   "cell_type": "code",
   "execution_count": null,
   "id": "958dfa29-9be6-49b5-8ee4-82adf0e45b0c",
   "metadata": {},
   "outputs": [],
   "source": [
    "#### Train script in-side Sagemaker container."
   ]
  },
  {
   "cell_type": "code",
   "execution_count": null,
   "id": "6b86d772-c97b-4e8a-9046-a9b2948f1697",
   "metadata": {
    "tags": []
   },
   "outputs": [],
   "source": [
    "from sagemaker.sklearn.estimator import SKLearn\n",
    "\n",
    "FRAMEWORK_VERSION = \"0.23-1\"\n",
    "\n",
    "sklearn_estimator = SKLearn(\n",
    "    entry_point=\"script.py\",\n",
    "    role=get_execution_role(),\n",
    "    instance_count=1,\n",
    "    instance_type=\"ml.t3.large\",\n",
    "    framework_version=FRAMEWORK_VERSION,\n",
    "    base_job_name=\"RF-custom-sklearn\",\n",
    "    hyperparameters={\n",
    "        \"n_estimators\": 100,\n",
    "        \"random_state\": 0,\n",
    "    },\n",
    "    use_spot_instances = True,\n",
    "    max_wait = 7200,\n",
    "    max_run = 3600\n",
    ")"
   ]
  },
  {
   "cell_type": "code",
   "execution_count": null,
   "id": "99c3c7da-9858-4975-9992-f4995a0e6028",
   "metadata": {
    "tags": []
   },
   "outputs": [],
   "source": [
    "# launch training job, with asynchronous call\n",
    "sklearn_estimator.fit({\"train\": trainpath, \"test\": testpath}, wait=True)\n",
    "# sklearn_estimator.fit({\"train\": datapath}, wait=True)"
   ]
  },
  {
   "cell_type": "code",
   "execution_count": null,
   "id": "08334958-582f-4ded-a631-9a6f34afeac2",
   "metadata": {},
   "outputs": [],
   "source": []
  }
 ],
 "metadata": {
  "kernelspec": {
   "display_name": "Python 3 (ipykernel)",
   "language": "python",
   "name": "python3"
  },
  "language_info": {
   "codemirror_mode": {
    "name": "ipython",
    "version": 3
   },
   "file_extension": ".py",
   "mimetype": "text/x-python",
   "name": "python",
   "nbconvert_exporter": "python",
   "pygments_lexer": "ipython3",
   "version": "3.10.12"
  }
 },
 "nbformat": 4,
 "nbformat_minor": 5
}
